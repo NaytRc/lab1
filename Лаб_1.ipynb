{
  "nbformat": 4,
  "nbformat_minor": 0,
  "metadata": {
    "colab": {
      "provenance": [],
      "authorship_tag": "ABX9TyPpcad3ey/Q/jHXQ+vi7Gzr",
      "include_colab_link": true
    },
    "kernelspec": {
      "name": "python3",
      "display_name": "Python 3"
    },
    "language_info": {
      "name": "python"
    }
  },
  "cells": [
    {
      "cell_type": "markdown",
      "metadata": {
        "id": "view-in-github",
        "colab_type": "text"
      },
      "source": [
        "<a href=\"https://colab.research.google.com/github/NaytRc/lab1/blob/main/%D0%9B%D0%B0%D0%B1_1.ipynb\" target=\"_parent\"><img src=\"https://colab.research.google.com/assets/colab-badge.svg\" alt=\"Open In Colab\"/></a>"
      ]
    },
    {
      "cell_type": "code",
      "execution_count": null,
      "metadata": {
        "id": "KY3a5q_enqKn"
      },
      "outputs": [],
      "source": [
        "#Задание 1\n",
        "def schet(s: str) -> int:\n",
        "    a = \"aeiouAEIOU\"  # Список букв\n",
        "    return sum(1 for char in s if char in a)  # Подсчет\n",
        "stroka = input(\"Введите строку: \")\n",
        "\n",
        "schet = schet(stroka)\n",
        "\n",
        "print(f\"Количество гласных букв: {schet}\")\n"
      ]
    },
    {
      "cell_type": "code",
      "source": [
        "#Задание 2\n",
        "def b(s):\n",
        "    for char in s:\n",
        "        if s.count(char) > 1:\n",
        "            return False\n",
        "    return True\n",
        "\n",
        "# Примеры тестов\n",
        "print(b('hello'))  #  False\n",
        "print(b('abcde'))  #  True\n",
        "\n"
      ],
      "metadata": {
        "id": "n3VdTpURnyq5"
      },
      "execution_count": null,
      "outputs": []
    },
    {
      "cell_type": "code",
      "source": [
        "#Задание 3\n",
        "def count_bits(n):\n",
        "    return bin(n).count('1')\n",
        "\n",
        "# Тест\n",
        "print(count_bits(7))  #  3 (т.к. 7 = 111)\n"
      ],
      "metadata": {
        "id": "XsGjfnxLoOdp"
      },
      "execution_count": null,
      "outputs": []
    },
    {
      "cell_type": "code",
      "source": [
        "#Задание 4\n",
        "def d(n):\n",
        "    count = 0\n",
        "    while n >= 10:\n",
        "        result = 1\n",
        "        for digit in str(n):\n",
        "            result *= int(digit)\n",
        "        n = result\n",
        "        count += 1\n",
        "    return count\n",
        "\n",
        "# Примеры тестов\n",
        "print(d(39))  #  3\n",
        "print(d(4))   # 0\n",
        "print(d(999)) #  4\n"
      ],
      "metadata": {
        "id": "PAS3qOi7oQha"
      },
      "execution_count": null,
      "outputs": []
    },
    {
      "cell_type": "markdown",
      "source": [],
      "metadata": {
        "id": "8o5kphwI3WP0"
      }
    },
    {
      "cell_type": "code",
      "source": [
        "#Задание 5\n",
        "def e(x, y):\n",
        "    total = 0\n",
        "    for i, j in zip(x, y):\n",
        "        total += (i - j) ** 2\n",
        "    return total / len(x)\n",
        "\n",
        "# Примеры тестов\n",
        "print(e([1, 2, 3], [1, 2, 3]))  #  0\n",
        "print(e([1, 2, 3], [2, 3, 4]))  #  1"
      ],
      "metadata": {
        "id": "6z04-H9BoSFJ"
      },
      "execution_count": null,
      "outputs": []
    },
    {
      "cell_type": "code",
      "source": [
        "#Задание 6\n",
        "def f(n):\n",
        "    i = 2\n",
        "    factors = []\n",
        "    while i * i <= n:\n",
        "        while n % i == 0:\n",
        "            factors.append(i)\n",
        "            n //= i\n",
        "        i += 1\n",
        "    if n > 1:\n",
        "        factors.append(n)\n",
        "    result = \"\"\n",
        "    for factor in set(factors):\n",
        "        power = factors.count(factor)\n",
        "        if power > 1:\n",
        "            result += f\"({factor}**{power})\"\n",
        "        else:\n",
        "            result += f\"({factor})\"\n",
        "    return result\n",
        "\n",
        "# Примеры тестов\n",
        "print(f(86240))  #  (2**5)(5)(7**2)(11)\n",
        "print(f(60))     #  (2**2)(3)(5)\n",
        "\n"
      ],
      "metadata": {
        "id": "3KGzm0UaoUWr"
      },
      "execution_count": null,
      "outputs": []
    },
    {
      "cell_type": "code",
      "source": [
        "#Задание 7\n",
        "def g(n):\n",
        "    total = 0\n",
        "    k = 0\n",
        "    while total < n:\n",
        "        k += 1\n",
        "        total += k * k\n",
        "    if total == n:\n",
        "        return k\n",
        "    else:\n",
        "        return \"It is impossible\"\n",
        "\n",
        "# Примеры тестов\n",
        "print(g(14))  #   выведет 3\n",
        "print(g(30))  #  \"НЕльзя построить\"\n",
        "\n"
      ],
      "metadata": {
        "id": "Y2uddmJDpw1S"
      },
      "execution_count": null,
      "outputs": []
    },
    {
      "cell_type": "code",
      "source": [
        "#Задание 8\n",
        "def h(n):\n",
        "    s = str(n)\n",
        "    length = len(s)\n",
        "    if length % 2 == 0:\n",
        "        left = s[:length // 2]\n",
        "        right = s[length // 2:]\n",
        "    else:\n",
        "        left = s[:length // 2]\n",
        "        right = s[length // 2 + 1:]\n",
        "\n",
        "    return sum(map(int, left)) == sum(map(int, right))\n",
        "\n",
        "# Примеры тестов\n",
        "print(h(123321))  # True (сбалансированное)\n",
        "print(h(12321))   # Ожидается True (сбалансированное)\n",
        "print(h(123456))  # Ожидается False (несбалансированное)\n"
      ],
      "metadata": {
        "colab": {
          "base_uri": "https://localhost:8080/"
        },
        "id": "d-QlC3xOpzqU",
        "outputId": "2b766ac6-4e25-4843-90af-1b2c465189af"
      },
      "execution_count": 1,
      "outputs": [
        {
          "output_type": "stream",
          "name": "stdout",
          "text": [
            "True\n",
            "True\n"
          ]
        }
      ]
    }
  ]
}